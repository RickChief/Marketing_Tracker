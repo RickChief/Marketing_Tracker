{
 "cells": [
  {
   "cell_type": "code",
   "execution_count": 1,
   "metadata": {},
   "outputs": [],
   "source": [
    "import smartsheet\n",
    "import os"
   ]
  },
  {
   "cell_type": "code",
   "execution_count": 5,
   "metadata": {},
   "outputs": [],
   "source": [
    "def getSheets(sheet_id,SheetName,token):\n",
    "    print(f'Downloading {SheetName}')\n",
    "    current_dir = os.getcwd()\n",
    "    path = f'{current_dir}\\Documents/'\n",
    "    smart = smartsheet.Smartsheet(token)\n",
    "    smart.Sheets.get_sheet_as_excel(sheet_id,path,SheetName)\n",
    "    print(f'{SheetName} was correctly Downloaded')"
   ]
  },
  {
   "cell_type": "code",
   "execution_count": 6,
   "metadata": {},
   "outputs": [],
   "source": [
    "sheet_id = 7889945697249156\n",
    "token = 'Vq8WbCRbdWNzPXIhZI76vhJlphIGXhfXejb1A'\n",
    "SheetName = 'Approvals.xlsx'"
   ]
  },
  {
   "cell_type": "code",
   "execution_count": 7,
   "metadata": {},
   "outputs": [
    {
     "name": "stdout",
     "output_type": "stream",
     "text": [
      "Downloading Approvals.xlsx\n",
      "Approvals.xlsx was correctly Downloaded\n"
     ]
    }
   ],
   "source": [
    "getSheets(sheet_id,SheetName,token)"
   ]
  }
 ],
 "metadata": {
  "kernelspec": {
   "display_name": "Python 3",
   "language": "python",
   "name": "python3"
  },
  "language_info": {
   "codemirror_mode": {
    "name": "ipython",
    "version": 3
   },
   "file_extension": ".py",
   "mimetype": "text/x-python",
   "name": "python",
   "nbconvert_exporter": "python",
   "pygments_lexer": "ipython3",
   "version": "3.10.5"
  },
  "orig_nbformat": 4,
  "vscode": {
   "interpreter": {
    "hash": "b1f904a02afafe6dff31b8bfab88b37cdb841db7f5ec093880766367f7f0b856"
   }
  }
 },
 "nbformat": 4,
 "nbformat_minor": 2
}
